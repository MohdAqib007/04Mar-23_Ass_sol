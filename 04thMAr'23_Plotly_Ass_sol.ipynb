{
 "cells": [
  {
   "cell_type": "code",
   "execution_count": 2,
   "id": "249e96e5-5e18-4c4a-ab38-1e4cac8d4bea",
   "metadata": {},
   "outputs": [
    {
     "ename": "ModuleNotFoundError",
     "evalue": "No module named 'plotly'",
     "output_type": "error",
     "traceback": [
      "\u001b[0;31m---------------------------------------------------------------------------\u001b[0m",
      "\u001b[0;31mModuleNotFoundError\u001b[0m                       Traceback (most recent call last)",
      "Cell \u001b[0;32mIn[2], line 5\u001b[0m\n\u001b[1;32m      1\u001b[0m \u001b[38;5;66;03m#Q1. Load the \"titanic\" dataset using the load_dataset function of seaborn. Use Plotly express to plot a scatter plot for age and fare columns in the titanic dataset.\u001b[39;00m\n\u001b[1;32m      2\u001b[0m \u001b[38;5;66;03m#Ans-\u001b[39;00m\n\u001b[1;32m      4\u001b[0m \u001b[38;5;28;01mimport\u001b[39;00m \u001b[38;5;21;01mseaborn\u001b[39;00m \u001b[38;5;28;01mas\u001b[39;00m \u001b[38;5;21;01msns\u001b[39;00m\n\u001b[0;32m----> 5\u001b[0m \u001b[38;5;28;01mimport\u001b[39;00m \u001b[38;5;21;01mplotly\u001b[39;00m\u001b[38;5;21;01m.\u001b[39;00m\u001b[38;5;21;01mexpress\u001b[39;00m \u001b[38;5;28;01mas\u001b[39;00m \u001b[38;5;21;01mpx\u001b[39;00m\n\u001b[1;32m      7\u001b[0m \u001b[38;5;66;03m# Load the \"titanic\" dataset\u001b[39;00m\n\u001b[1;32m      8\u001b[0m titanic \u001b[38;5;241m=\u001b[39m sns\u001b[38;5;241m.\u001b[39mload_dataset(\u001b[38;5;124m\"\u001b[39m\u001b[38;5;124mtitanic\u001b[39m\u001b[38;5;124m\"\u001b[39m)\n",
      "\u001b[0;31mModuleNotFoundError\u001b[0m: No module named 'plotly'"
     ]
    }
   ],
   "source": [
    "#Q1. Load the \"titanic\" dataset using the load_dataset function of seaborn. Use Plotly express to plot a scatter plot for age and fare columns in the titanic dataset.\n",
    "#Ans-\n",
    "\n",
    "import plotly.express as px\n",
    "\n",
    "# Load the \"tips\" dataset\n",
    "tips = px.data.tips()\n",
    "\n",
    "# Plot a box plot for the \"total_bill\" column\n",
    "fig = px.box(tips, y=\"total_bill\")\n",
    "fig.show()\n",
    "\n"
   ]
  },
  {
   "cell_type": "code",
   "execution_count": null,
   "id": "ef07a3b8-6752-4695-b003-503186ee6aee",
   "metadata": {},
   "outputs": [],
   "source": [
    "#Q2. Using the tips dataset in the Plotly library, plot a box plot using Plotly express.\n",
    "#Ans-\n",
    "import plotly.express as px\n",
    "\n",
    "# Load the \"tips\" dataset\n",
    "tips = px.data.tips()\n",
    "\n",
    "# Plot a box plot for the \"total_bill\" column\n",
    "fig = px.box(tips, y=\"total_bill\")\n",
    "fig.show()\n"
   ]
  },
  {
   "cell_type": "code",
   "execution_count": null,
   "id": "ac3be25b-e987-4343-bc8f-b521f66c8a7f",
   "metadata": {},
   "outputs": [],
   "source": [
    "#Q3. Using the tips dataset in the Plotly library, Plot a histogram for x= \"sex\" and y=\"total_bill\" column in the tips dataset. Also, use the \"smoker\" column with the pattern_shape parameter and the \"day\" column with the color parameter.\n",
    "#Ans-\n",
    "import plotly.express as px\n",
    "\n",
    "# Load the \"tips\" dataset\n",
    "tips = px.data.tips()\n",
    "\n",
    "# Plot a histogram for \"total_bill\" with \"sex\" on the x-axis, \"smoker\" with pattern_shape, and \"day\" with color\n",
    "fig = px.histogram(tips, x=\"sex\", y=\"total_bill\", color=\"day\", pattern_shape=\"smoker\")\n",
    "fig.show()\n"
   ]
  },
  {
   "cell_type": "code",
   "execution_count": null,
   "id": "139610d7-7758-479a-9da3-59c6901ed74e",
   "metadata": {},
   "outputs": [],
   "source": [
    "#Q4. Using the iris dataset in the Plotly library, Plot a scatter matrix plot, using the \"species\" column for the color parameter.\n",
    "#Ans-\n",
    "\n",
    "import plotly.express as px\n",
    "\n",
    "# Load the \"iris\" dataset\n",
    "iris = px.data.iris()\n",
    "\n",
    "# Plot a scatter matrix plot for four columns with \"species\" as the color parameter\n",
    "fig = px.scatter_matrix(\n",
    "    iris,\n",
    "    dimensions=[\"sepal_length\", \"sepal_width\", \"petal_length\", \"petal_width\"],\n",
    "    color=\"species\"\n",
    ")\n",
    "\n",
    "fig.show()\n"
   ]
  },
  {
   "cell_type": "code",
   "execution_count": null,
   "id": "b43ea1d4-9d9d-4bcb-98b1-f0918a6c8508",
   "metadata": {},
   "outputs": [],
   "source": [
    "#Q5. What is Distplot? Using Plotly express, plot a distplot.\n",
    "#Ans-\n",
    "'''Distplot is a seaborn function that plots a histogram and a kernel density estimate (KDE) of a univariate distribution. \n",
    "It is a convenient way to visualize the distribution of a single variable.\n",
    "\n",
    "However, Plotly express does not have a direct distplot function. Instead, you can use the histogram function to plot a histogram and the kde function to plot a KDE. \n",
    "Here's an example of how to create a distplot-like plot using Plotly express:'''\n",
    "\n",
    "import plotly.express as px\n",
    "\n",
    "# Load the \"tips\" dataset\n",
    "tips = px.data.tips()\n",
    "\n",
    "# Plot a distplot for the \"total_bill\" column\n",
    "fig = px.histogram(tips, x=\"total_bill\", nbins=30, opacity=0.5, marginal=\"rug\", histnorm=\"probability\")\n",
    "fig.update_traces(kde=True, selector=dict(type='histogram'))\n",
    "fig.show()\n"
   ]
  }
 ],
 "metadata": {
  "kernelspec": {
   "display_name": "Python 3 (ipykernel)",
   "language": "python",
   "name": "python3"
  },
  "language_info": {
   "codemirror_mode": {
    "name": "ipython",
    "version": 3
   },
   "file_extension": ".py",
   "mimetype": "text/x-python",
   "name": "python",
   "nbconvert_exporter": "python",
   "pygments_lexer": "ipython3",
   "version": "3.10.8"
  }
 },
 "nbformat": 4,
 "nbformat_minor": 5
}
